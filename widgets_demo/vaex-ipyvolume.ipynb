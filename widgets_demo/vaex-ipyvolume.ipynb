{
 "cells": [
  {
   "cell_type": "markdown",
   "metadata": {},
   "source": [
    "# Vaex & ipyvolume\n",
    " * vaex\n",
    "  * https://github.com/maartenbreddels/vaex\n",
    "  * http://vaex.astro.rug.nl\n",
    " * ipyvolume\n",
    "  * https://github.com/maartenbreddels/ipyvolume\n",
    "  * ipyvolume.readthedocs.io/en/latest/\n",
    " \n",
    "Install for conda:\n",
    "```\n",
    "$ conda install -c conda-forge vaex\n",
    "$ conda install -c conda-forge ipyvolume\n",
    "```\n",
    "or pip\n",
    "```\n",
    "$ pip install --pre vaex\n",
    "$ pip install ipyvolume\n",
    "$ jupyter nbextension enable --sys-prefix --py ipyvolume\n",
    "```\n"
   ]
  },
  {
   "cell_type": "code",
   "execution_count": null,
   "metadata": {
    "collapsed": true
   },
   "outputs": [],
   "source": [
    "import vaex"
   ]
  },
  {
   "cell_type": "code",
   "execution_count": null,
   "metadata": {
    "collapsed": true
   },
   "outputs": [],
   "source": [
    "taxis = vaex.open(\"/Users/maartenbreddels/vaex/data/nytaxi/nyc_taxi2015.hdf5\")"
   ]
  },
  {
   "cell_type": "code",
   "execution_count": null,
   "metadata": {
    "collapsed": true
   },
   "outputs": [],
   "source": [
    "taxis.plot_widget('pickup_longitude', 'pickup_latitude', f='log', backend='ipyleaflet', shape=400)"
   ]
  },
  {
   "cell_type": "code",
   "execution_count": null,
   "metadata": {
    "collapsed": true
   },
   "outputs": [],
   "source": [
    "darkmatter = vaex.open(\"/Users/maartenbreddels/src/vaex/data/Aq-A-2-999-shuffled-10percent.hdf5\")"
   ]
  },
  {
   "cell_type": "code",
   "execution_count": null,
   "metadata": {
    "collapsed": true
   },
   "outputs": [],
   "source": [
    "darkmatter.plot_widget('x', 'y', f='log1p')"
   ]
  },
  {
   "cell_type": "code",
   "execution_count": null,
   "metadata": {
    "collapsed": true,
    "scrolled": false
   },
   "outputs": [],
   "source": [
    "darkmatter.plot_widget('x', 'y', 'z', backend='ipyvolume', f='log1p', shape=128, \n",
    "                       smooth_post=1)"
   ]
  },
  {
   "cell_type": "code",
   "execution_count": null,
   "metadata": {
    "collapsed": true
   },
   "outputs": [],
   "source": [
    "import ipyvolume as ipv\n",
    "import ipywidgets as widgets\n",
    "import numpy as np"
   ]
  },
  {
   "cell_type": "code",
   "execution_count": null,
   "metadata": {
    "collapsed": true
   },
   "outputs": [],
   "source": [
    "ipv.figure()\n",
    "N = 100\n",
    "x, y, z = np.random.random((3, N))\n",
    "ipv.figure()\n",
    "scatter = ipv.scatter(x, y, z, color='orange', marker='sphere')\n",
    "ipv.show()"
   ]
  },
  {
   "cell_type": "code",
   "execution_count": null,
   "metadata": {
    "collapsed": true
   },
   "outputs": [],
   "source": [
    "scatter.x = 0.5"
   ]
  },
  {
   "cell_type": "code",
   "execution_count": null,
   "metadata": {
    "collapsed": true
   },
   "outputs": [],
   "source": [
    "color_picker = widgets.ColorPicker()\n",
    "widgets.jslink((scatter, 'color'), (color_picker, 'value'))\n",
    "color_picker"
   ]
  },
  {
   "cell_type": "code",
   "execution_count": null,
   "metadata": {
    "collapsed": true
   },
   "outputs": [],
   "source": [
    "size_slider = widgets.FloatSlider(min=0.1, max=5)\n",
    "widgets.jslink((scatter, 'size'), (size_slider, 'value'))\n",
    "size_slider"
   ]
  },
  {
   "cell_type": "code",
   "execution_count": null,
   "metadata": {
    "collapsed": true
   },
   "outputs": [],
   "source": [
    "ipv.save('perfect_plot.html')"
   ]
  },
  {
   "cell_type": "code",
   "execution_count": null,
   "metadata": {
    "collapsed": true
   },
   "outputs": [],
   "source": [
    "!open perfect_plot.html"
   ]
  },
  {
   "cell_type": "code",
   "execution_count": null,
   "metadata": {
    "collapsed": true
   },
   "outputs": [],
   "source": [
    "ipv.figure()\n",
    "N = 100\n",
    "x, y, z = np.random.random((3, N))\n",
    "vx, vy, vz = np.random.random((3, N))*2 - 1\n",
    "ipv.figure()\n",
    "ipv.quiver(x, y, z, vx, vy, vz, color=np.random.random((N,3)))\n",
    "ipv.show()"
   ]
  },
  {
   "cell_type": "code",
   "execution_count": null,
   "metadata": {
    "collapsed": true
   },
   "outputs": [],
   "source": [
    "ipv.figure()\n",
    "N = 100\n",
    "M = 10\n",
    "x, y, z = np.random.random((3, M, N))\n",
    "vx, vy, vz = np.random.random((3, M, N))*2 - 1\n",
    "ipv.figure()\n",
    "quiver = ipv.quiver(x, y, z, vx, vy, vz, color=np.random.random((M,N,3)))\n",
    "ipv.animation_control(quiver, interval=1000)\n",
    "ipv.show()"
   ]
  },
  {
   "cell_type": "code",
   "execution_count": null,
   "metadata": {
    "collapsed": true
   },
   "outputs": [],
   "source": [
    "ipv.figure()\n",
    "ipv.style.use('dark')\n",
    "quiver = ipv.quiver(*ipv.datasets.animated_stream.fetch().data[:,::,::4], size=5)\n",
    "ipv.animation_control(quiver, interval=200)\n",
    "ipv.show()"
   ]
  },
  {
   "cell_type": "code",
   "execution_count": null,
   "metadata": {
    "collapsed": true
   },
   "outputs": [],
   "source": [
    "ipv.style.use('light')"
   ]
  },
  {
   "cell_type": "code",
   "execution_count": null,
   "metadata": {
    "collapsed": true
   },
   "outputs": [],
   "source": []
  }
 ],
 "metadata": {
  "kernelspec": {
   "display_name": "Python [default]",
   "language": "python",
   "name": "python3"
  },
  "language_info": {
   "codemirror_mode": {
    "name": "ipython",
    "version": 3
   },
   "file_extension": ".py",
   "mimetype": "text/x-python",
   "name": "python",
   "nbconvert_exporter": "python",
   "pygments_lexer": "ipython3",
   "version": "3.5.2"
  }
 },
 "nbformat": 4,
 "nbformat_minor": 2
}
